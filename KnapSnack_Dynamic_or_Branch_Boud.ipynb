{
 "cells": [
  {
   "cell_type": "code",
   "execution_count": null,
   "id": "5691c104",
   "metadata": {},
   "outputs": [],
   "source": [
    "# 4 -> KnapSnack Dynamic_or_Branch_Boud"
   ]
  },
  {
   "cell_type": "code",
   "execution_count": 4,
   "id": "553670bd",
   "metadata": {},
   "outputs": [
    {
     "name": "stdout",
     "output_type": "stream",
     "text": [
      "Enter the number of items: 4\n",
      "Enter the values of the items separated by space: 1 2 3 4\n",
      "Enter the weights of the items separated by space: 5 6 7 8\n",
      "Enter the maximum capacity of the knapsack: 5\n",
      "Maximum value: 1\n",
      "Selected items (0-indexed): [0]\n"
     ]
    }
   ],
   "source": [
    "def knapsack_01(n, values, weights, W):\n",
    "    dp = [[0 for _ in range(W + 1)] for _ in range(n + 1)]\n",
    "\n",
    "    for i in range(1, n + 1):\n",
    "        for w in range(W + 1):\n",
    "            if weights[i - 1] <= w:\n",
    "                dp[i][w] = max(dp[i - 1][w], dp[i - 1][w - weights[i - 1]] + values[i - 1])\n",
    "            else:\n",
    "                dp[i][w] = dp[i - 1][w]\n",
    "\n",
    "    selected_items = []\n",
    "    i, w = n, W\n",
    "    while i > 0 and w > 0:\n",
    "        if dp[i][w] != dp[i - 1][w]:  \n",
    "            selected_items.append(i - 1)  \n",
    "            w -= weights[i - 1]  \n",
    "        i -= 1\n",
    "\n",
    "    selected_items.reverse()  \n",
    "    return dp[n][W], selected_items\n",
    "\n",
    "n = int(input(\"Enter the number of items: \"))\n",
    "values = list(map(int, input(\"Enter the values of the items separated by space: \").split()))\n",
    "weights = list(map(int, input(\"Enter the weights of the items separated by space: \").split()))\n",
    "W = int(input(\"Enter the maximum capacity of the knapsack: \"))\n",
    "\n",
    "max_value, selected_items = knapsack_01(n, values, weights, W)\n",
    "\n",
    "print(\"Maximum value:\", max_value)\n",
    "print(\"Selected items (0-indexed):\", selected_items)\n"
   ]
  },
  {
   "cell_type": "code",
   "execution_count": null,
   "id": "57a36c8c",
   "metadata": {},
   "outputs": [],
   "source": []
  },
  {
   "cell_type": "code",
   "execution_count": null,
   "id": "e658e722",
   "metadata": {},
   "outputs": [],
   "source": []
  }
 ],
 "metadata": {
  "kernelspec": {
   "display_name": "Python 3 (ipykernel)",
   "language": "python",
   "name": "python3"
  },
  "language_info": {
   "codemirror_mode": {
    "name": "ipython",
    "version": 3
   },
   "file_extension": ".py",
   "mimetype": "text/x-python",
   "name": "python",
   "nbconvert_exporter": "python",
   "pygments_lexer": "ipython3",
   "version": "3.11.5"
  }
 },
 "nbformat": 4,
 "nbformat_minor": 5
}
