{
 "cells": [
  {
   "cell_type": "code",
   "execution_count": null,
   "id": "d8227359",
   "metadata": {},
   "outputs": [],
   "source": [
    "## 1 -> Fibonacci Numbers"
   ]
  },
  {
   "cell_type": "code",
   "execution_count": null,
   "id": "fb81ac84",
   "metadata": {},
   "outputs": [],
   "source": [
    "# non-recursive"
   ]
  },
  {
   "cell_type": "code",
   "execution_count": null,
   "id": "e96534a9",
   "metadata": {},
   "outputs": [],
   "source": [
    "nterms = int(input(\"How many terms? \"))\n",
    "n1, n2 = 0, 1\n",
    "count = 0\n",
    "\n",
    "if nterms <= 0:\n",
    "    print(\"Please enter a positive integer\")\n",
    "elif nterms == 1:\n",
    "    print(\"Fibonacci sequence up to\", nterms, \":\")\n",
    "    print(n1)\n",
    "\n",
    "else:\n",
    "    print(\"Fibonacci sequence:\")\n",
    "    while count < nterms:\n",
    "        print(n1) \n",
    "        nth = n1 + n2 \n",
    "        n1 = n2\n",
    "        n2 = nth\n",
    "        count += 1"
   ]
  },
  {
   "cell_type": "code",
   "execution_count": null,
   "id": "773f640d",
   "metadata": {},
   "outputs": [],
   "source": [
    "# Recursive "
   ]
  },
  {
   "cell_type": "code",
   "execution_count": null,
   "id": "30f8e981",
   "metadata": {},
   "outputs": [],
   "source": [
    "def fibonacci(n):\n",
    "    if n <= 0:\n",
    "        return []\n",
    "    elif n == 1:\n",
    "        return [0]\n",
    "    elif n == 2:\n",
    "        return [0, 1]\n",
    "    else:\n",
    "        seq = fibonacci(n-1) \n",
    "        seq.append(seq[-1] + seq[-2])\n",
    "        return seq\n",
    "\n",
    "nterms = int(input(\"How many terms? \"))\n",
    "\n",
    "if nterms <= 0: \n",
    "    print(\"Please enter a positive integer\")\n",
    "else:\n",
    "    print(\"Fibonacci sequence:\")\n",
    "    fib_sequence = fibonacci(nterms)\n",
    "    for num in fib_sequence:\n",
    "        print(num)"
   ]
  },
  {
   "cell_type": "code",
   "execution_count": null,
   "id": "5a47f249",
   "metadata": {},
   "outputs": [],
   "source": []
  }
 ],
 "metadata": {
  "kernelspec": {
   "display_name": "Python 3 (ipykernel)",
   "language": "python",
   "name": "python3"
  },
  "language_info": {
   "codemirror_mode": {
    "name": "ipython",
    "version": 3
   },
   "file_extension": ".py",
   "mimetype": "text/x-python",
   "name": "python",
   "nbconvert_exporter": "python",
   "pygments_lexer": "ipython3",
   "version": "3.11.5"
  }
 },
 "nbformat": 4,
 "nbformat_minor": 5
}
