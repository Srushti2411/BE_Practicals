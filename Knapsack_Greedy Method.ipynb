{
 "cells": [
  {
   "cell_type": "code",
   "execution_count": 1,
   "id": "fee1d131",
   "metadata": {},
   "outputs": [
    {
     "ename": "SyntaxError",
     "evalue": "invalid syntax (445324784.py, line 1)",
     "output_type": "error",
     "traceback": [
      "\u001b[1;36m  Cell \u001b[1;32mIn[1], line 1\u001b[1;36m\u001b[0m\n\u001b[1;33m    3 -> Knapsack_Greedy Method\u001b[0m\n\u001b[1;37m      ^\u001b[0m\n\u001b[1;31mSyntaxError\u001b[0m\u001b[1;31m:\u001b[0m invalid syntax\n"
     ]
    }
   ],
   "source": [
    "3 -> Knapsack_Greedy Method"
   ]
  },
  {
   "cell_type": "code",
   "execution_count": 2,
   "id": "55bed3e3",
   "metadata": {},
   "outputs": [
    {
     "name": "stdout",
     "output_type": "stream",
     "text": [
      "Enter number of items-\n",
      "5\n",
      "Enter profit of item 1-\n",
      "30\n",
      "Enter weight of item 1-\n",
      "5\n",
      "Enter profit of item 2-\n",
      "40\n",
      "Enter weight of item 2-\n",
      "10\n",
      "Enter profit of item 3-\n",
      "45\n",
      "Enter weight of item 3-\n",
      "15\n",
      "Enter profit of item 4-\n",
      "77\n",
      "Enter weight of item 4-\n",
      "22\n",
      "Enter profit of item 5-\n",
      "90\n",
      "Enter weight of item 5-\n",
      "25\n",
      "Enter capacity of knapsack-\n",
      "60\n",
      "Maximum value in knapsack: 230.0\n"
     ]
    }
   ],
   "source": [
    "class Item:\n",
    "    def __init__(self, profit, weight):  \n",
    "        self.profit = profit\n",
    "        self.weight = weight\n",
    "\n",
    "def fractionalKnapsack(w, arr):\n",
    "    arr.sort(key=lambda x: x.profit / x.weight, reverse=True)\n",
    "    finalValue = 0.0\n",
    "\n",
    "    for item in arr:\n",
    "        if w >= item.weight:\n",
    "            finalValue += item.profit\n",
    "            w -= item.weight\n",
    "        else:\n",
    "            finalValue += item.profit * (w / item.weight)\n",
    "            break \n",
    "    return finalValue\n",
    "\n",
    "if __name__ == \"__main__\":\n",
    "    n = int(input(\"Enter number of items-\\n\"))\n",
    "    arr = []\n",
    "    for i in range(n):\n",
    "        profit = int(input(f\"Enter profit of item {i + 1}-\\n\"))\n",
    "        weight = int(input(f\"Enter weight of item {i + 1}-\\n\"))\n",
    "        arr.append(Item(profit, weight))\n",
    "        \n",
    "    w = int(input(\"Enter capacity of knapsack-\\n\"))\n",
    "    print(\"Maximum value in knapsack:\", fractionalKnapsack(w, arr))\n"
   ]
  },
  {
   "cell_type": "code",
   "execution_count": null,
   "id": "0abdc9c2",
   "metadata": {},
   "outputs": [],
   "source": []
  }
 ],
 "metadata": {
  "kernelspec": {
   "display_name": "Python 3 (ipykernel)",
   "language": "python",
   "name": "python3"
  },
  "language_info": {
   "codemirror_mode": {
    "name": "ipython",
    "version": 3
   },
   "file_extension": ".py",
   "mimetype": "text/x-python",
   "name": "python",
   "nbconvert_exporter": "python",
   "pygments_lexer": "ipython3",
   "version": "3.11.5"
  }
 },
 "nbformat": 4,
 "nbformat_minor": 5
}
