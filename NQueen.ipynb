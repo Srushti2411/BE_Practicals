{
 "cells": [
  {
   "cell_type": "code",
   "execution_count": 2,
   "id": "160bb23c",
   "metadata": {},
   "outputs": [],
   "source": [
    "# 5 - > NQueens"
   ]
  },
  {
   "cell_type": "code",
   "execution_count": 3,
   "id": "ecd073d9",
   "metadata": {},
   "outputs": [
    {
     "name": "stdout",
     "output_type": "stream",
     "text": [
      "Enter the number of queens: 4\n",
      "Initial State:\n",
      "\n",
      "❌ ❌ ❌ ❌ \n",
      "❌ ❌ ❌ ❌ \n",
      "❌ ❌ ❌ ❌ \n",
      "❌ ❌ ❌ ❌ \n",
      "\n",
      "Final State:\n",
      "\n",
      "❌ 👑 ❌ ❌ \n",
      "❌ ❌ ❌ 👑 \n",
      "👑 ❌ ❌ ❌ \n",
      "❌ ❌ 👑 ❌ \n"
     ]
    }
   ],
   "source": [
    "class Queen:\n",
    "    def __init__(self, N):\n",
    "        self.N = N\n",
    "        self.board = [[0] * N for _ in range(N)] \n",
    "\n",
    "    def disp_board(self):\n",
    "        for row in self.board:\n",
    "            print()\n",
    "            for col in row:\n",
    "                if col == 1:\n",
    "                    print(u\"\\U0001F451\", end=' ') \n",
    "                else:\n",
    "                    print(u\"\\u274C\", end=' ')  \n",
    "        print(end='\\n')\n",
    "\n",
    "    def is_attack(self, i, j):\n",
    "        for k in range(self.N):\n",
    "            if self.board[i][k] == 1 or self.board[k][j] == 1:\n",
    "                return True\n",
    "\n",
    "        for k in range(self.N):\n",
    "            for l in range(self.N):\n",
    "                if (k + l == i + j) or (k - l == i - j):\n",
    "                    if self.board[k][l] == 1:\n",
    "                        return True\n",
    "        return False\n",
    "\n",
    "    def N_queen(self, n):\n",
    "        if n == 0:\n",
    "            return True  \n",
    "\n",
    "        for i in range(self.N):\n",
    "            for j in range(self.N):\n",
    "                if not self.is_attack(i, j) and self.board[i][j] != 1:\n",
    "                    # Place queen at (i, j)\n",
    "                    self.board[i][j] = 1\n",
    "                    if self.N_queen(n - 1):\n",
    "                        return True \n",
    "                    self.board[i][j] = 0\n",
    "        return False\n",
    "\n",
    "N = int(input(\"Enter the number of queens: \"))\n",
    "Q = Queen(N)\n",
    "\n",
    "print('Initial State:')\n",
    "Q.disp_board()\n",
    "\n",
    "if Q.N_queen(N):\n",
    "    print('\\nFinal State:')\n",
    "    Q.disp_board()\n",
    "else:\n",
    "    print(\"No solution found.\")\n"
   ]
  },
  {
   "cell_type": "code",
   "execution_count": null,
   "id": "37c930e6",
   "metadata": {},
   "outputs": [],
   "source": []
  }
 ],
 "metadata": {
  "kernelspec": {
   "display_name": "Python 3 (ipykernel)",
   "language": "python",
   "name": "python3"
  },
  "language_info": {
   "codemirror_mode": {
    "name": "ipython",
    "version": 3
   },
   "file_extension": ".py",
   "mimetype": "text/x-python",
   "name": "python",
   "nbconvert_exporter": "python",
   "pygments_lexer": "ipython3",
   "version": "3.11.5"
  }
 },
 "nbformat": 4,
 "nbformat_minor": 5
}
